{
 "cells": [
  {
   "cell_type": "markdown",
   "id": "bb72251f",
   "metadata": {},
   "source": [
    "<img src=https://kto-ozvuchival.ru/wp-content/uploads/2017/12/kto-ozvuchivaet-toni-starka-na-russkom-800x500.jpg><br><hr style=\"border: 10px solid green;\" />\n",
    "\n",
    "## <span style=\"color:green\">Финальный комментарий<span>\n",
    "\n",
    "Спасибо за проделанную работу🤝\n",
    "\n",
    "Евгений, спасибо за оперативность, всё принято👌\n",
    "    \n",
    "Желаю дальнейших успехов и отличного настроения🖐 В качестве бонуса, рекомендую, отличную книгу про оформление презентаций, графиков - [Александр Богачев, Графики, которые убеждают](https://www.litres.ru/book/aleksandr-bogachev/grafiki-kotorye-ubezhdaut-vseh-51710962/?etext=2202.djJvP5fw5zcFUmVUzOg083M-m18ldNmodGO7Z1JOc7bLnYIKrXldtg0XlPOX_v9Q5Mch8f2FQH7k8NPv74UE1pgqul6_pvxHdoIb3489mCL9EboTkhEDb5vn4iP7FQDTeGJ4aHdwb2dvYmNveHVzZw.08df721efd94a95b67e1454ab87d50432f5c02a3&yclid=2637497238845724830&utm_source=yandex&utm_medium=cpc&utm_campaign=web_books_dsa_drr_feed%20607619718%7C47441382&utm_content=8258473707&utm_term=Раменское_10750) и можно заглянуть в канал и сайт [Ромы Бунина](https://t.me/revealthedata) (кажется, главный человек по визуализации в Росии😉)\n",
    "\n",
    "\n",
    "Интересные ссылки:\n",
    "- <a href=\"https://datayoga.ru/vizcards\">Карточки визуализации</a>\n",
    "- [Доска Miro Datayoga](https://miro.com/app/board/o9J_kr3cvUM=/)\n",
    "- [Марафон визуализации](https://datayoga.ru/datalens01) - он на Datalens, но можно выбрать и другой инструмент\n",
    "\n",
    "\n",
    "\n",
    "Поздравляю, проект принят👍"
   ]
  },
  {
   "cell_type": "markdown",
   "id": "4612d826",
   "metadata": {},
   "source": [
    "\n",
    "\n",
    "<hr style=\"border: 2px solid green;\" />\n",
    "\n",
    "## Комментарий ревьювера\n",
    "\n",
    "Евгений, привет! \n",
    "\n",
    "🤚Меня зовут, Олег Юрьев, я буду проверять твой проект. Если не против, я буду обращаться к тебе на _ТЫ_ . Если это неприемлемо, обязательно напиши мне в комментариях - мы перейдем на _ВЫ_ .\n",
    "\n",
    "🤝Спасибо, что сдал проект вовремя. Тобой проделана большая работа, молодец! \n",
    "\n",
    "✏️В этой тетрадке ты найдешь мои комментарии.\n",
    "\n",
    "Комментарии будут выделены:\n",
    "\n",
    "<div style=\"border-radius: 15px; box-shadow: 4px 4px 4px; border: solid green 2px; padding: 20px\"> <b>Отличная работа ✅</b><br>\n",
    "    Безупречная работа</div>       \n",
    "<br>\n",
    "<div style=\"border-radius: 15px; box-shadow: 4px 4px 4px; border: solid orange 2px; padding: 20px\"> <b>Что можно улучшить ⚠️</b><br>\n",
    "    Ничего дорабатывать не надо, данные пункты работают нормально, но есть способы улучшить. Несколько таких комментариев допустимы, но более - придется некоторые доработать. Большое кол-во мелких замечаний и помарок сказываются на общем впечатлении от работы.</div>   \n",
    "<br>\n",
    "<div style=\"border-radius: 15px; box-shadow: 4px 4px 4px; border: solid red 2px; padding: 20px\"> <b>Что необходимо доработать ⛔️</b><br>\n",
    "    Такие пункты необходимо исправить в первую очередь, чтобы я смог принять проект.</div>\n",
    " \n",
    "Не удаляй комментарии, так будем следить за динамикой 📈\n",
    "   \n",
    "Давай будем в диалоге - основные цели в диалоге:\n",
    "- обмен опытом (да я тоже учусь у студентов👨‍🎓)\n",
    "- выполнить проект еще лучше\n",
    "- помочь тебе стать аналитиком\n",
    "\n",
    "Поэтому чтобы мне проще было проверять повторно, а тебе контролировать процесс ревью, оставляй свои комментарии и выделяй их. \n",
    "    \n",
    "\n",
    "\n",
    "   \n",
    "Поехали! :)\n",
    "\n",
    "<hr style=\"border: 2px solid green;\" />"
   ]
  },
  {
   "cell_type": "markdown",
   "id": "f7a72048",
   "metadata": {},
   "source": [
    "# Уровень лояльности телекоммуникационной компаний"
   ]
  },
  {
   "cell_type": "markdown",
   "id": "fc9582d5",
   "metadata": {},
   "source": [
    "<b>Цель исследования:</b> Определить текущий уровень потребительской лояльности, или NPS (от англ. Net Promoter Score), среди клиентов из России. \n",
    "\n",
    "<b>Ход исследования:</b> Данные берем из базы: /datasets/telecomm_csi.db. Большую базу данных для такой задачи разворачивать не стали и выгрузили данные в SQLite. Поэтому с помощью запросов выгрузим необходимые нам поля. И на основании полученного файла проведем исследование.\n",
    "\n",
    "<b>Этапы исследования:</b>\n",
    "\n",
    "- Подключение к базе;\n",
    "- Выгрузка данных;\n",
    "- Создание дашборда в Tableau;\n",
    "- Анализ данных и основные выводы;\n",
    "- Презентация."
   ]
  },
  {
   "cell_type": "markdown",
   "id": "327fa4de",
   "metadata": {},
   "source": [
    "<b>Описание данных:</b>\n",
    "\n",
    "Компания провела опрос на основании которого нам и нужно провести анализ. \n",
    "\n",
    "Чтобы оценить результаты опроса, оценки разделим на три группы:\n",
    "- 9-10 баллов — «cторонники» (англ. promoters);\n",
    "- 7-8 баллов — «нейтралы» (англ. passives);\n",
    "- 0-6 баллов — «критики» (англ. detractors).\n",
    "\n",
    "Итоговое значение NPS рассчитывается по формуле: % «сторонников» - % «критиков».\n",
    "\n",
    "<b>Таблица user:</b>\n",
    "\n",
    "- user_id - Идентификатор клиента, первичный ключ таблицы\n",
    "- lt_day - Количество дней «жизни» клиента\n",
    "- age - Возраст клиента в годах\n",
    "- gender_segment - Пол клиента (1 – женщина, 0 – мужчина)\n",
    "- os_name - Тип операционной системы\n",
    "- cpe_type_name - Тип устройства \n",
    "- location_id - Идентификатор домашнего региона клиента, внешний ключ, отсылающий к таблице location\n",
    "- age_gr_id - Идентификатор возрастного сегмента клиента, внешний ключ, отсылающий к таблице age_segment\n",
    "- tr_gr_id - Идентификатор сегмента клиента по объёму потребляемого трафика в месяц, внешний ключ, отсылающий к таблице traffic_segment\n",
    "- lt_gr_id - Идентификатор сегмента клиента по количеству месяцев «жизни», внешний ключ, отсылающий к таблице lifetime_segment\n",
    "- nps_score - Оценка клиента в NPS-опросе (от 1 до 10)\n",
    "\n",
    "<b>Таблица location:</b>\n",
    "\n",
    "- location_id - Идентификатор записи, первичный ключ\n",
    "- country - Страна\n",
    "- city - Город\n",
    "\n",
    "<b>Таблица age_segment:</b>\n",
    "\n",
    "- age_gr_id - Идентификатор сегмента, первичный ключ\n",
    "- bucket_min - Минимальная граница сегмента\n",
    "- bucket_max - Максимальная граница сегмента\n",
    "- title - Название сегмента\n",
    "\n",
    "<b>Таблица traffic_segment:</b>\n",
    "\n",
    "- tr_gr_id - Идентификатор сегмента, первичный ключ\n",
    "- bucket_min - Минимальная граница сегмента\n",
    "- bucket_max - Максимальная граница сегмента\n",
    "- title - Название сегмента\n",
    "\n",
    "<b>Таблица lifetime_segment:</b>\n",
    "\n",
    "- lt_gr_id - Идентификатор сегмента, первичный ключ\n",
    "- bucket_min - Минимальная граница сегмента\n",
    "- bucket_max - Максимальная граница сегмента\n",
    "- title - Название сегмента"
   ]
  },
  {
   "cell_type": "markdown",
   "id": "b80d9e7a",
   "metadata": {},
   "source": [
    "## Шаг 1. Подключение к базе"
   ]
  },
  {
   "cell_type": "code",
   "execution_count": 1,
   "id": "e8c6023a",
   "metadata": {},
   "outputs": [],
   "source": [
    "import os\n",
    "import pandas as pd\n",
    "import numpy as np\n",
    "\n",
    "from sqlalchemy import create_engine"
   ]
  },
  {
   "cell_type": "code",
   "execution_count": 2,
   "id": "0017f8e7",
   "metadata": {},
   "outputs": [],
   "source": [
    "path_to_db_local = 'telecomm_csi.db'\n",
    "path_to_db_platform = '/datasets/telecomm_csi.db'\n",
    "path_to_db = None\n",
    "\n",
    "if os.path.exists(path_to_db_local):\n",
    "    path_to_db = path_to_db_local\n",
    "elif os.path.exists(path_to_db_platform):\n",
    "    path_to_db = path_to_db_platform\n",
    "else:\n",
    "    raise Exception('Файл с базой данных SQLite не найден!')\n",
    "\n",
    "if path_to_db:\n",
    "    engine = create_engine(f'sqlite:///{path_to_db}', echo=False)"
   ]
  },
  {
   "cell_type": "markdown",
   "id": "380f0e1a",
   "metadata": {},
   "source": [
    "## Шаг 2. Выгрузка данных"
   ]
  },
  {
   "cell_type": "code",
   "execution_count": 3,
   "id": "84ebad43",
   "metadata": {},
   "outputs": [],
   "source": [
    "query = \"\"\"\n",
    "WITH\n",
    "u AS (SELECT user_id,\n",
    "             lt_day,\n",
    "             CASE\n",
    "                WHEN lt_day > 365 THEN 1\n",
    "                ELSE 0\n",
    "             END AS is_new,\n",
    "             age,\n",
    "             CAST(gender_segment AS varchar) AS gender_segment,\n",
    "             os_name,\n",
    "             cpe_type_name,\n",
    "             location_id,\n",
    "             age_gr_id,\n",
    "             tr_gr_id,\n",
    "             lt_gr_id\n",
    "      FROM user),\n",
    "l AS (SELECT country,\n",
    "             city,\n",
    "             location_id\n",
    "      FROM location),\n",
    "a AS (SELECT title AS age_segment,\n",
    "             age_gr_id\n",
    "      FROM age_segment),\n",
    "t AS (SELECT title AS traffic_segment,\n",
    "             tr_gr_id\n",
    "      FROM traffic_segment),\n",
    "lt AS (SELECT title AS lifetime_segment,\n",
    "              lt_gr_id\n",
    "      FROM lifetime_segment),\n",
    "uc AS (SELECT nps_score,\n",
    "              CASE\n",
    "                WHEN nps_score >= 9 THEN 'cторонники'\n",
    "                WHEN nps_score >= 7 AND nps_score < 9 THEN 'нейтралы'\n",
    "                ELSE 'критики'\n",
    "              END AS nps_group,\n",
    "              user_id\n",
    "      FROM user)\n",
    "SELECT u.user_id,\n",
    "       u.lt_day,\n",
    "       u.is_new,\n",
    "       u.age,\n",
    "       u.gender_segment,\n",
    "       u.os_name,\n",
    "       u.cpe_type_name,\n",
    "       l.country,\n",
    "       l.city,\n",
    "       a.age_segment,\n",
    "       t.traffic_segment,\n",
    "       lt.lifetime_segment,\n",
    "       uc.nps_score,\n",
    "       uc.nps_group\n",
    "FROM u LEFT OUTER JOIN l ON u.location_id=l.location_id\n",
    "LEFT OUTER JOIN a ON u.age_gr_id=a.age_gr_id\n",
    "LEFT OUTER JOIN t ON u.tr_gr_id=t.tr_gr_id\n",
    "LEFT OUTER JOIN lt ON u.lt_gr_id=lt.lt_gr_id\n",
    "LEFT OUTER JOIN uc ON u.user_id=uc.user_id;\n",
    "\"\"\""
   ]
  },
  {
   "cell_type": "markdown",
   "id": "0e2110da",
   "metadata": {},
   "source": [
    "После написания запроса проверяем чтобы все данные были корректные. Так же выведем info()."
   ]
  },
  {
   "cell_type": "code",
   "execution_count": 4,
   "id": "3965faf2",
   "metadata": {},
   "outputs": [
    {
     "data": {
      "text/html": [
       "<div>\n",
       "<style scoped>\n",
       "    .dataframe tbody tr th:only-of-type {\n",
       "        vertical-align: middle;\n",
       "    }\n",
       "\n",
       "    .dataframe tbody tr th {\n",
       "        vertical-align: top;\n",
       "    }\n",
       "\n",
       "    .dataframe thead th {\n",
       "        text-align: right;\n",
       "    }\n",
       "</style>\n",
       "<table border=\"1\" class=\"dataframe\">\n",
       "  <thead>\n",
       "    <tr style=\"text-align: right;\">\n",
       "      <th></th>\n",
       "      <th>user_id</th>\n",
       "      <th>lt_day</th>\n",
       "      <th>is_new</th>\n",
       "      <th>age</th>\n",
       "      <th>gender_segment</th>\n",
       "      <th>os_name</th>\n",
       "      <th>cpe_type_name</th>\n",
       "      <th>country</th>\n",
       "      <th>city</th>\n",
       "      <th>age_segment</th>\n",
       "      <th>traffic_segment</th>\n",
       "      <th>lifetime_segment</th>\n",
       "      <th>nps_score</th>\n",
       "      <th>nps_group</th>\n",
       "    </tr>\n",
       "  </thead>\n",
       "  <tbody>\n",
       "    <tr>\n",
       "      <th>0</th>\n",
       "      <td>A001A2</td>\n",
       "      <td>2320</td>\n",
       "      <td>1</td>\n",
       "      <td>45.0</td>\n",
       "      <td>1.0</td>\n",
       "      <td>ANDROID</td>\n",
       "      <td>SMARTPHONE</td>\n",
       "      <td>Россия</td>\n",
       "      <td>Уфа</td>\n",
       "      <td>05 45-54</td>\n",
       "      <td>04 1-5</td>\n",
       "      <td>08 36+</td>\n",
       "      <td>10</td>\n",
       "      <td>cторонники</td>\n",
       "    </tr>\n",
       "    <tr>\n",
       "      <th>1</th>\n",
       "      <td>A001WF</td>\n",
       "      <td>2344</td>\n",
       "      <td>1</td>\n",
       "      <td>53.0</td>\n",
       "      <td>0.0</td>\n",
       "      <td>ANDROID</td>\n",
       "      <td>SMARTPHONE</td>\n",
       "      <td>Россия</td>\n",
       "      <td>Киров</td>\n",
       "      <td>05 45-54</td>\n",
       "      <td>04 1-5</td>\n",
       "      <td>08 36+</td>\n",
       "      <td>10</td>\n",
       "      <td>cторонники</td>\n",
       "    </tr>\n",
       "    <tr>\n",
       "      <th>2</th>\n",
       "      <td>A003Q7</td>\n",
       "      <td>467</td>\n",
       "      <td>1</td>\n",
       "      <td>57.0</td>\n",
       "      <td>0.0</td>\n",
       "      <td>ANDROID</td>\n",
       "      <td>SMARTPHONE</td>\n",
       "      <td>Россия</td>\n",
       "      <td>Москва</td>\n",
       "      <td>06 55-64</td>\n",
       "      <td>08 20-25</td>\n",
       "      <td>06 13-24</td>\n",
       "      <td>10</td>\n",
       "      <td>cторонники</td>\n",
       "    </tr>\n",
       "  </tbody>\n",
       "</table>\n",
       "</div>"
      ],
      "text/plain": [
       "  user_id  lt_day  is_new   age gender_segment  os_name cpe_type_name country  \\\n",
       "0  A001A2    2320       1  45.0            1.0  ANDROID    SMARTPHONE  Россия   \n",
       "1  A001WF    2344       1  53.0            0.0  ANDROID    SMARTPHONE  Россия   \n",
       "2  A003Q7     467       1  57.0            0.0  ANDROID    SMARTPHONE  Россия   \n",
       "\n",
       "     city age_segment traffic_segment lifetime_segment  nps_score   nps_group  \n",
       "0     Уфа    05 45-54          04 1-5           08 36+         10  cторонники  \n",
       "1   Киров    05 45-54          04 1-5           08 36+         10  cторонники  \n",
       "2  Москва    06 55-64        08 20-25         06 13-24         10  cторонники  "
      ]
     },
     "execution_count": 4,
     "metadata": {},
     "output_type": "execute_result"
    }
   ],
   "source": [
    "df = pd.read_sql(query, engine)\n",
    "df.head(3)"
   ]
  },
  {
   "cell_type": "code",
   "execution_count": 5,
   "id": "cb007d1c",
   "metadata": {},
   "outputs": [
    {
     "name": "stdout",
     "output_type": "stream",
     "text": [
      "<class 'pandas.core.frame.DataFrame'>\n",
      "RangeIndex: 502493 entries, 0 to 502492\n",
      "Data columns (total 14 columns):\n",
      " #   Column            Non-Null Count   Dtype  \n",
      "---  ------            --------------   -----  \n",
      " 0   user_id           502493 non-null  object \n",
      " 1   lt_day            502493 non-null  int64  \n",
      " 2   is_new            502493 non-null  int64  \n",
      " 3   age               501939 non-null  float64\n",
      " 4   gender_segment    501192 non-null  object \n",
      " 5   os_name           502493 non-null  object \n",
      " 6   cpe_type_name     502493 non-null  object \n",
      " 7   country           502493 non-null  object \n",
      " 8   city              502493 non-null  object \n",
      " 9   age_segment       502493 non-null  object \n",
      " 10  traffic_segment   502493 non-null  object \n",
      " 11  lifetime_segment  502493 non-null  object \n",
      " 12  nps_score         502493 non-null  int64  \n",
      " 13  nps_group         502493 non-null  object \n",
      "dtypes: float64(1), int64(3), object(10)\n",
      "memory usage: 53.7+ MB\n"
     ]
    }
   ],
   "source": [
    "df.info()"
   ]
  },
  {
   "cell_type": "code",
   "execution_count": 6,
   "id": "9db04858",
   "metadata": {},
   "outputs": [],
   "source": [
    "df.to_csv('telecomm_csi_tableau.csv', index=False)"
   ]
  },
  {
   "cell_type": "markdown",
   "id": "b51320a7",
   "metadata": {},
   "source": [
    "Видим что все данные подтянулись, а так же gender_segment отображается в нужном формате. Скачиваем файл и идем в Tableau"
   ]
  },
  {
   "cell_type": "markdown",
   "id": "416d041c",
   "metadata": {},
   "source": [
    "Ссылка на проект в Tableau:\n",
    "https://public.tableau.com/app/profile/eudgene.kor/viz/Prefabricated_project_2/NPS-_4?publish=yes"
   ]
  },
  {
   "attachments": {
    "image-2.png": {
     "image/png": "[encoded data removed]"
    },
    "image-3.png": {
     "image/png": "[encoded data removed]"
    },
    "image.png": {
     "image/png": "[encoded data removed]"
    }
   },
   "cell_type": "markdown",
   "id": "bcbdb121",
   "metadata": {},
   "source": [
    "<div style=\"border-radius: 15px; box-shadow: 4px 4px 4px; border: solid green 2px; padding: 20px\"> \n",
    "\n",
    "## Общий комментарий\n",
    "\n",
    "\n",
    "Спасибо за проделанную работу🤝\n",
    "\n",
    "Евгений, ниже комментарии по разделам проекта:\n",
    "\n",
    "\n",
    "**Pipeline**\n",
    "\n",
    "✅ SQL запрос написан корректно\n",
    "    \n",
    "\n",
    "💡Улучшения: \n",
    "- нет необходимости выносить в CTE просто селект таблицы (`SELECT field1, field2 FROM table`), с аналогичным успехом, это делается при джойне и селекте в сновном запросе, только читаемость всего запроса станет выше\n",
    "- можно заметить, что наименования сегментов составные - номер группы + диапазон значений, это не очень удобно для восприятия и анализа. Чтобы поправить этот момент, можно выделить только диапазон, в этом поможет функция <a href=\"https://www.sqlitetutorial.net/sqlite-functions/sqlite-substr/\">substr</a>\n",
    "\n",
    " ----------------------\n",
    "\n",
    "**Dash**\n",
    "\n",
    "🔴Доработки:\n",
    "- как понять, к чему имеет отношение параметр\n",
    "![image.png](attachment:image.png)\n",
    "    \n",
    "- предлагаю сменить bubbleplot на barplot, тк при несколько большем кол-ве подписи не читаются\n",
    "![image-2.png](attachment:image-2.png)\n",
    "    \n",
    "- индикатор NPS сделать крупнее - это одна из важных метрик дашборда и она не должна теряться, можно посмотреть [пример](https://youtu.be/sjP-ipvhhgk)\n",
    "![image-3.png](attachment:image-3.png)\n",
    "    \n",
    "- на графике NPS vs возраст исключить цветовую кодировку. Александр Богачев в книге <a href=\"https://ru.bookmate.com/books/pfLCYNJM\">Графики, которые убеждают всех</a> так пишет про цвет:<br>\n",
    "<b>Про цвет для категорий</b><br>\n",
    "<code>Иногда разные тона используют, чтобы различать категории, а не выделять одну из них. В таком случае тона должны быть достаточно различимы, а их визуальный вес должен быть примерно одинаковым. Если на вашем графике всего одна переменная и подписи однозначно обозначают каждую категорию, нет никакого смысла раскрашивать каждый столбик в отдельный тон или оттенок.</code><br>\n",
    "В данном случае цвет не несет дополнительной информации и может быть удален без ухудшения визуализации\n",
    "\n",
    "\n",
    "💡Улучшения:\n",
    "- один из вариантов совместить кол-во данных и уровень NPS использовать [combination plot](https://youtu.be/iKNbpYqQNCc)\n",
    "\n",
    " ----------------------\n",
    "\n",
    "**Slides**\n",
    "\n",
    "🔴Доработки\n",
    "- п5 по NPS части неверен: так получилось потому что Top N-set строится по кол-ву клиентов, а если смотреть топ по NPS, то картина будет другой. Предлагаю в выводе по городам указать:\n",
    " - топ 3 лояльных и наименее лояльных города\n",
    " - Лояльность топ-3(5) крупных городов\n",
    "- Также в выводах прокомментируй динамику NPS от возраста\\lifetime\n",
    "\n",
    "\n",
    " Исправляй и отправляй на проверку🛠"
   ]
  },
  {
   "cell_type": "markdown",
   "id": "56daaef3",
   "metadata": {},
   "source": [
    "<div style=\"border-radius: 15px; box-shadow: 4px 4px 4px; border: solid blue 2px; padding: 20px\"> \n",
    "Олег, спасибо за комментарии. Доработки провел."
   ]
  }
 ],
 "metadata": {
  "ExecuteTimeLog": [
   {
    "duration": 380,
    "start_time": "2023-06-27T05:04:39.823Z"
   },
   {
    "duration": 556,
    "start_time": "2023-06-27T05:05:23.461Z"
   },
   {
    "duration": 431,
    "start_time": "2023-06-27T05:05:26.112Z"
   },
   {
    "duration": 3,
    "start_time": "2023-06-27T05:10:35.319Z"
   },
   {
    "duration": 8,
    "start_time": "2023-06-27T05:14:10.854Z"
   },
   {
    "duration": 5,
    "start_time": "2023-06-27T05:44:18.845Z"
   },
   {
    "duration": 683,
    "start_time": "2023-06-27T05:44:24.075Z"
   },
   {
    "duration": 4,
    "start_time": "2023-06-27T05:45:06.723Z"
   },
   {
    "duration": 469,
    "start_time": "2023-06-27T05:45:09.022Z"
   },
   {
    "duration": 7,
    "start_time": "2023-06-27T05:49:32.823Z"
   },
   {
    "duration": 805,
    "start_time": "2023-06-27T05:49:34.184Z"
   },
   {
    "duration": 5,
    "start_time": "2023-06-27T05:55:12.554Z"
   },
   {
    "duration": 862,
    "start_time": "2023-06-27T05:55:14.415Z"
   },
   {
    "duration": 5,
    "start_time": "2023-06-27T06:06:21.221Z"
   },
   {
    "duration": 771,
    "start_time": "2023-06-27T06:06:24.727Z"
   },
   {
    "duration": 7,
    "start_time": "2023-06-27T06:07:28.615Z"
   },
   {
    "duration": 1033,
    "start_time": "2023-06-27T06:07:30.555Z"
   },
   {
    "duration": 12,
    "start_time": "2023-06-27T06:07:49.723Z"
   },
   {
    "duration": 838,
    "start_time": "2023-06-27T06:07:51.746Z"
   },
   {
    "duration": 3,
    "start_time": "2023-06-27T13:00:07.260Z"
   },
   {
    "duration": 1793,
    "start_time": "2023-06-27T13:00:09.158Z"
   },
   {
    "duration": 3,
    "start_time": "2023-06-27T13:00:38.659Z"
   },
   {
    "duration": 914,
    "start_time": "2023-06-27T13:00:44.914Z"
   },
   {
    "duration": 4,
    "start_time": "2023-06-27T13:03:17.026Z"
   },
   {
    "duration": 839,
    "start_time": "2023-06-27T13:03:19.257Z"
   },
   {
    "duration": 4,
    "start_time": "2023-06-27T13:04:37.936Z"
   },
   {
    "duration": 721,
    "start_time": "2023-06-27T13:04:40.467Z"
   },
   {
    "duration": 3,
    "start_time": "2023-06-27T13:05:02.444Z"
   },
   {
    "duration": 9147,
    "start_time": "2023-06-27T13:05:03.814Z"
   },
   {
    "duration": 4693,
    "start_time": "2023-06-27T13:42:00.354Z"
   },
   {
    "duration": 491,
    "start_time": "2023-06-28T04:08:24.426Z"
   },
   {
    "duration": 116,
    "start_time": "2023-06-28T04:08:24.920Z"
   },
   {
    "duration": 5,
    "start_time": "2023-06-28T04:08:25.038Z"
   },
   {
    "duration": 7680,
    "start_time": "2023-06-28T04:08:25.045Z"
   },
   {
    "duration": 4753,
    "start_time": "2023-06-28T04:08:32.727Z"
   },
   {
    "duration": 386,
    "start_time": "2023-06-28T04:19:49.123Z"
   },
   {
    "duration": 14,
    "start_time": "2023-06-28T04:23:08.115Z"
   },
   {
    "duration": 5922,
    "start_time": "2023-06-28T04:23:10.838Z"
   },
   {
    "duration": 418,
    "start_time": "2023-06-28T04:23:21.290Z"
   },
   {
    "duration": 5041,
    "start_time": "2023-06-28T04:24:08.190Z"
   },
   {
    "duration": 495,
    "start_time": "2023-07-03T03:02:00.824Z"
   },
   {
    "duration": 49,
    "start_time": "2023-07-03T03:02:01.321Z"
   },
   {
    "duration": 4,
    "start_time": "2023-07-03T03:02:01.372Z"
   },
   {
    "duration": 5970,
    "start_time": "2023-07-03T03:02:01.378Z"
   },
   {
    "duration": 455,
    "start_time": "2023-07-03T03:02:07.350Z"
   },
   {
    "duration": 3924,
    "start_time": "2023-07-03T03:02:07.806Z"
   },
   {
    "duration": 467,
    "start_time": "2023-07-03T06:05:51.249Z"
   },
   {
    "duration": 24,
    "start_time": "2023-07-03T06:05:51.724Z"
   },
   {
    "duration": 3,
    "start_time": "2023-07-03T06:05:51.750Z"
   },
   {
    "duration": 6497,
    "start_time": "2023-07-03T06:05:51.756Z"
   },
   {
    "duration": 488,
    "start_time": "2023-07-03T06:05:58.254Z"
   },
   {
    "duration": 5192,
    "start_time": "2023-07-03T06:05:58.745Z"
   }
  ],
  "kernelspec": {
   "display_name": "Python 3 (ipykernel)",
   "language": "python",
   "name": "python3"
  },
  "language_info": {
   "codemirror_mode": {
    "name": "ipython",
    "version": 3
   },
   "file_extension": ".py",
   "mimetype": "text/x-python",
   "name": "python",
   "nbconvert_exporter": "python",
   "pygments_lexer": "ipython3",
   "version": "3.9.5"
  },
  "toc": {
   "base_numbering": 1,
   "nav_menu": {},
   "number_sections": true,
   "sideBar": true,
   "skip_h1_title": true,
   "title_cell": "Table of Contents",
   "title_sidebar": "Contents",
   "toc_cell": false,
   "toc_position": {},
   "toc_section_display": true,
   "toc_window_display": false
  }
 },
 "nbformat": 4,
 "nbformat_minor": 5
}
